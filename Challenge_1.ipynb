{
  "nbformat": 4,
  "nbformat_minor": 0,
  "metadata": {
    "colab": {
      "name": "Challenge 1.ipynb",
      "provenance": []
    },
    "kernelspec": {
      "name": "python3",
      "display_name": "Python 3"
    },
    "language_info": {
      "name": "python"
    }
  },
  "cells": [
    {
      "cell_type": "markdown",
      "source": [
        "1. First we import the data into the memory\n",
        "\n",
        "\n",
        "\n",
        "For that, I used the codes at the end of the task document"
      ],
      "metadata": {
        "id": "CDfS-EsSU3Oi"
      }
    },
    {
      "cell_type": "code",
      "execution_count": null,
      "metadata": {
        "id": "D5fByRgKMcyu",
        "colab": {
          "base_uri": "https://localhost:8080/"
        },
        "outputId": "bedf11c9-b0eb-4571-e405-63bbd0b6ca21"
      },
      "outputs": [
        {
          "output_type": "stream",
          "name": "stdout",
          "text": [
            "\u001b[K     |████████████████████████████████| 46.2 MB 2.2 MB/s \n",
            "\u001b[K     |████████████████████████████████| 1.4 MB 41.5 MB/s \n",
            "\u001b[?25h  Installing build dependencies ... \u001b[?25l\u001b[?25hdone\n",
            "  Getting requirements to build wheel ... \u001b[?25l\u001b[?25hdone\n",
            "    Preparing wheel metadata ... \u001b[?25l\u001b[?25hdone\n",
            "\u001b[K     |████████████████████████████████| 51 kB 7.3 MB/s \n",
            "\u001b[K     |████████████████████████████████| 295 kB 51.3 MB/s \n",
            "\u001b[K     |████████████████████████████████| 55 kB 4.0 MB/s \n",
            "\u001b[K     |████████████████████████████████| 3.6 MB 42.3 MB/s \n",
            "\u001b[?25h  Building wheel for ligo-segments (setup.py) ... \u001b[?25l\u001b[?25hdone\n",
            "  Building wheel for lscsoft-glue (PEP 517) ... \u001b[?25l\u001b[?25hdone\n",
            "\u001b[K     |████████████████████████████████| 1.4 MB 4.4 MB/s \n",
            "\u001b[K     |████████████████████████████████| 11.2 MB 43.6 MB/s \n",
            "\u001b[K     |████████████████████████████████| 895 kB 51.4 MB/s \n",
            "\u001b[31mERROR: pip's dependency resolver does not currently take into account all the packages that are installed. This behaviour is the source of the following dependency conflicts.\n",
            "albumentations 0.1.12 requires imgaug<0.2.7,>=0.2.5, but you have imgaug 0.2.9 which is incompatible.\u001b[0m\n",
            "\u001b[K     |████████████████████████████████| 6.7 MB 4.3 MB/s \n",
            "\u001b[K     |████████████████████████████████| 324 kB 59.1 MB/s \n",
            "\u001b[?25h  Installing build dependencies ... \u001b[?25l\u001b[?25hdone\n",
            "  Getting requirements to build wheel ... \u001b[?25l\u001b[?25hdone\n",
            "    Preparing wheel metadata ... \u001b[?25l\u001b[?25hdone\n",
            "\u001b[K     |████████████████████████████████| 201 kB 61.3 MB/s \n",
            "\u001b[K     |████████████████████████████████| 7.3 MB 29.3 MB/s \n",
            "\u001b[K     |████████████████████████████████| 75 kB 289 kB/s \n",
            "\u001b[K     |████████████████████████████████| 148 kB 62.1 MB/s \n",
            "\u001b[K     |████████████████████████████████| 45 kB 3.3 MB/s \n",
            "\u001b[?25h  Installing build dependencies ... \u001b[?25l\u001b[?25hdone\n",
            "  Getting requirements to build wheel ... \u001b[?25l\u001b[?25hdone\n",
            "    Preparing wheel metadata ... \u001b[?25l\u001b[?25hdone\n",
            "\u001b[K     |████████████████████████████████| 43 kB 1.5 MB/s \n",
            "\u001b[?25h  Installing build dependencies ... \u001b[?25l\u001b[?25hdone\n",
            "  Getting requirements to build wheel ... \u001b[?25l\u001b[?25hdone\n",
            "    Preparing wheel metadata ... \u001b[?25l\u001b[?25hdone\n",
            "\u001b[K     |████████████████████████████████| 180 kB 70.3 MB/s \n",
            "\u001b[?25h  Installing build dependencies ... \u001b[?25l\u001b[?25hdone\n",
            "  Getting requirements to build wheel ... \u001b[?25l\u001b[?25hdone\n",
            "    Preparing wheel metadata ... \u001b[?25l\u001b[?25hdone\n",
            "\u001b[K     |████████████████████████████████| 1.3 MB 38.5 MB/s \n",
            "\u001b[K     |████████████████████████████████| 87 kB 6.4 MB/s \n",
            "\u001b[K     |████████████████████████████████| 636 kB 51.9 MB/s \n",
            "\u001b[K     |████████████████████████████████| 56 kB 4.3 MB/s \n",
            "\u001b[?25h  Installing build dependencies ... \u001b[?25l\u001b[?25hdone\n",
            "  Getting requirements to build wheel ... \u001b[?25l\u001b[?25hdone\n",
            "    Preparing wheel metadata ... \u001b[?25l\u001b[?25hdone\n",
            "\u001b[K     |████████████████████████████████| 61 kB 7.4 MB/s \n",
            "\u001b[K     |████████████████████████████████| 63 kB 1.6 MB/s \n",
            "\u001b[K     |████████████████████████████████| 131 kB 69.1 MB/s \n",
            "\u001b[K     |████████████████████████████████| 55 kB 3.7 MB/s \n",
            "\u001b[K     |████████████████████████████████| 7.7 MB 42.6 MB/s \n",
            "\u001b[K     |████████████████████████████████| 79 kB 7.2 MB/s \n",
            "\u001b[K     |████████████████████████████████| 138 kB 63.2 MB/s \n",
            "\u001b[?25h  Building wheel for pegasus-wms (PEP 517) ... \u001b[?25l\u001b[?25hdone\n",
            "  Building wheel for pegasus-wms.api (PEP 517) ... \u001b[?25l\u001b[?25hdone\n",
            "  Building wheel for pegasus-wms.common (PEP 517) ... \u001b[?25l\u001b[?25hdone\n",
            "  Building wheel for pegasus-wms.dax (PEP 517) ... \u001b[?25l\u001b[?25hdone\n",
            "  Building wheel for pegasus-wms.worker (PEP 517) ... \u001b[?25l\u001b[?25hdone\n",
            "  Building wheel for globus-sdk (setup.py) ... \u001b[?25l\u001b[?25hdone\n",
            "  Building wheel for python-ligo-lw (setup.py) ... \u001b[?25l\u001b[?25hdone\n",
            "  Building wheel for mysqlclient (setup.py) ... \u001b[?25l\u001b[?25hdone\n",
            "\u001b[31mERROR: pip's dependency resolver does not currently take into account all the packages that are installed. This behaviour is the source of the following dependency conflicts.\n",
            "google-colab 1.0.0 requires requests~=2.23.0, but you have requests 2.25.1 which is incompatible.\n",
            "datascience 0.10.6 requires folium==0.2.1, but you have folium 0.8.3 which is incompatible.\u001b[0m\n"
          ]
        }
      ],
      "source": [
        "! pip install -q lalsuite\n",
        "! pip install -q gwpy\n",
        "! pip install -q pycbc\n",
        "# -- Click \"restart runtime\" in the runtime menu"
      ]
    },
    {
      "cell_type": "code",
      "source": [
        "! pip install matplotlib==3.1.3"
      ],
      "metadata": {
        "id": "0EgYegJURZV-"
      },
      "execution_count": null,
      "outputs": []
    },
    {
      "cell_type": "code",
      "source": [
        "# -- download data\n",
        "! wget https://www.gw-openscience.org/s/workshop3/challenge/challenge1.gwf"
      ],
      "metadata": {
        "colab": {
          "base_uri": "https://localhost:8080/"
        },
        "id": "V25GOlPcPe1-",
        "outputId": "b9d8aecb-5669-4287-880a-3bb6c7ec5615"
      },
      "execution_count": null,
      "outputs": [
        {
          "output_type": "stream",
          "name": "stdout",
          "text": [
            "--2022-02-11 14:44:05--  https://www.gw-openscience.org/s/workshop3/challenge/challenge1.gwf\n",
            "Resolving www.gw-openscience.org (www.gw-openscience.org)... 131.215.113.73\n",
            "Connecting to www.gw-openscience.org (www.gw-openscience.org)|131.215.113.73|:443... connected.\n",
            "HTTP request sent, awaiting response... 200 OK\n",
            "Length: 4025674 (3.8M)\n",
            "Saving to: ‘challenge1.gwf’\n",
            "\n",
            "challenge1.gwf      100%[===================>]   3.84M  3.00MB/s    in 1.3s    \n",
            "\n",
            "2022-02-11 14:44:07 (3.00 MB/s) - ‘challenge1.gwf’ saved [4025674/4025674]\n",
            "\n"
          ]
        }
      ]
    },
    {
      "cell_type": "code",
      "source": [
        "# -- for gwpy\n",
        "from gwpy.timeseries import TimeSeries\n",
        "gwpy_strain = TimeSeries.read('challenge1.gwf', channel=\"H1:CHALLENGE1\")"
      ],
      "metadata": {
        "id": "dtsz7EWzPj29"
      },
      "execution_count": null,
      "outputs": []
    },
    {
      "cell_type": "code",
      "source": [
        "# -- for pycbc\n",
        "from pycbc import frame\n",
        "pycbc_strain = frame.read_frame('challenge1.gwf', 'H1:CHALLENGE1')"
      ],
      "metadata": {
        "id": "7gDow2gFPnS8"
      },
      "execution_count": null,
      "outputs": []
    },
    {
      "cell_type": "markdown",
      "source": [
        "Let's have a look at the data\n"
      ],
      "metadata": {
        "id": "vsbXXwI6Re_T"
      }
    },
    {
      "cell_type": "code",
      "source": [
        "print(gwpy_strain)"
      ],
      "metadata": {
        "id": "9YSqeObvRhCA"
      },
      "execution_count": null,
      "outputs": []
    },
    {
      "cell_type": "markdown",
      "source": [
        "Let's now determine the sampling rate of the data"
      ],
      "metadata": {
        "id": "OkDziiVoU71T"
      }
    },
    {
      "cell_type": "code",
      "source": [
        "samplerate = gwpy_strain.sample_rate\n",
        "duration = gwpy_strain.duration\n",
        "# gps = gwpy_strain.t0\n",
        "print('The sample rate of the data is:', samplerate, 'and the duration is: ', duration))"
      ],
      "metadata": {
        "colab": {
          "base_uri": "https://localhost:8080/",
          "height": 368
        },
        "id": "_OUKim_JPq7K",
        "outputId": "a281ff85-d60e-42c9-de50-54506b474fa4"
      },
      "execution_count": null,
      "outputs": [
        {
          "output_type": "error",
          "ename": "ModuleNotFoundError",
          "evalue": "ignored",
          "traceback": [
            "\u001b[0;31m---------------------------------------------------------------------------\u001b[0m",
            "\u001b[0;31mModuleNotFoundError\u001b[0m                       Traceback (most recent call last)",
            "\u001b[0;32m<ipython-input-3-95d2601d32bf>\u001b[0m in \u001b[0;36m<module>\u001b[0;34m()\u001b[0m\n\u001b[1;32m      1\u001b[0m \u001b[0;32mfrom\u001b[0m \u001b[0mgwosc\u001b[0m\u001b[0;34m.\u001b[0m\u001b[0mdatasets\u001b[0m \u001b[0;32mimport\u001b[0m \u001b[0mfind_datasets\u001b[0m\u001b[0;34m\u001b[0m\u001b[0;34m\u001b[0m\u001b[0m\n\u001b[0;32m----> 2\u001b[0;31m \u001b[0;32mfrom\u001b[0m \u001b[0mgwtc1\u001b[0m \u001b[0;32mimport\u001b[0m \u001b[0mdatasets\u001b[0m\u001b[0;34m\u001b[0m\u001b[0;34m\u001b[0m\u001b[0m\n\u001b[0m\u001b[1;32m      3\u001b[0m \u001b[0;34m\u001b[0m\u001b[0m\n\u001b[1;32m      4\u001b[0m \u001b[0;31m#-- Print all the large strain data sets from LIGO/Virgo observing runs\u001b[0m\u001b[0;34m\u001b[0m\u001b[0;34m\u001b[0m\u001b[0;34m\u001b[0m\u001b[0m\n\u001b[1;32m      5\u001b[0m \u001b[0mruns\u001b[0m \u001b[0;34m=\u001b[0m \u001b[0mfind_datasets\u001b[0m\u001b[0;34m(\u001b[0m\u001b[0mtype\u001b[0m\u001b[0;34m=\u001b[0m\u001b[0;34m'run'\u001b[0m\u001b[0;34m)\u001b[0m\u001b[0;34m\u001b[0m\u001b[0;34m\u001b[0m\u001b[0m\n",
            "\u001b[0;31mModuleNotFoundError\u001b[0m: No module named 'gwtc1'",
            "",
            "\u001b[0;31m---------------------------------------------------------------------------\u001b[0;32m\nNOTE: If your import is failing due to a missing package, you can\nmanually install dependencies using either !pip or !apt.\n\nTo view examples of installing some common dependencies, click the\n\"Open Examples\" button below.\n\u001b[0;31m---------------------------------------------------------------------------\u001b[0m\n"
          ],
          "errorDetails": {
            "actions": [
              {
                "action": "open_url",
                "actionText": "Open Examples",
                "url": "/notebooks/snippets/importing_libraries.ipynb"
              }
            ]
          }
        }
      ]
    },
    {
      "cell_type": "markdown",
      "source": [
        "2. We can also plot it to better visualize it"
      ],
      "metadata": {
        "id": "ZDY95r6cRyI0"
      }
    },
    {
      "cell_type": "code",
      "source": [
        "# plotting in time domain using matplotlib\n",
        "%matplotlib inline\n",
        "plot = gwpy_strain.plot()\n",
        "ax = plot.gca()\n",
        "ax.set_ylabel('Amplitude')"
      ],
      "metadata": {
        "id": "r2eliNrER1Wd"
      },
      "execution_count": null,
      "outputs": []
    },
    {
      "cell_type": "markdown",
      "source": [
        "3. We plot a spectogram/q-transform in order to identify the signal\n",
        "\n",
        "Spectrogram:"
      ],
      "metadata": {
        "id": "ttZtyX5AYnmB"
      }
    },
    {
      "cell_type": "code",
      "source": [
        "# plot spectogram\n",
        "specgram = gwpy_strain.spectrogram2(fftlength=4, overlap=2, window='hann') ** (1/2.)\n",
        "plot = specgram.plot()"
      ],
      "metadata": {
        "id": "A2jxyL2GYu6j"
      },
      "execution_count": null,
      "outputs": []
    },
    {
      "cell_type": "code",
      "source": [
        "# to check for colour scale\n",
        "print(specgram.min())\n",
        "print(specgram.max())"
      ],
      "metadata": {
        "id": "0gkDQ3VCS0iv"
      },
      "execution_count": null,
      "outputs": []
    },
    {
      "cell_type": "code",
      "source": [
        "# adjust colour scale\n",
        "ax = plot.gca()\n",
        "ax.set_yscale('log')\n",
        "ax.set_ylim(10, 1400)\n",
        "ax.colorbar(\n",
        "    clim=(1e-24, 1e-22),\n",
        "    norm=\"log\",\n",
        "    label=r\"Strain noise [$1/\\sqrt{\\mathrm{Hz}}$]\",\n",
        ")\n",
        "plot  # refresh"
      ],
      "metadata": {
        "id": "7H53dP6bS1EV"
      },
      "execution_count": null,
      "outputs": []
    },
    {
      "cell_type": "markdown",
      "source": [
        "Q-transform: \n",
        "\n",
        "By using a Q-transform, we can create a time-frequency representation of our data and see how it behaves at different frequencies over (short periods of) time, without knowing yet how the signal looks like."
      ],
      "metadata": {
        "id": "Y5EZwtDJeHsT"
      }
    },
    {
      "cell_type": "code",
      "source": [
        "# time frequency representation\n",
        "# maybe change frange ???\n",
        "hq = gwpy_strain.q_transform(frange=(30, 500))\n",
        "plot = hq.plot()\n",
        "plot.colorbar(label=\"Normalised energy\")"
      ],
      "metadata": {
        "id": "5oTXzDkJeNTU"
      },
      "execution_count": null,
      "outputs": []
    },
    {
      "cell_type": "code",
      "source": [
        "# better visulisation\n",
        "ax = plot.gca()\n",
        "ax.set_epoch(64)\n",
        "ax.set_ylim(30, 500)\n",
        "ax.set_yscale(\"log\")\n",
        "plot  # refresh"
      ],
      "metadata": {
        "id": "5vD6t2XbS9EM"
      },
      "execution_count": null,
      "outputs": []
    },
    {
      "cell_type": "code",
      "source": [
        "# maybe adjust qrange???\n",
        "hq = gwpy_strain.q_transform(frange=(30, 500), qrange= (400, 410))\n",
        "plot = hq.plot()\n",
        "ax = plot.gca()\n",
        "ax.set_epoch(64)\n",
        "ax.set_yscale('log')\n",
        "ax.colorbar(label=\"Normalised energy\")"
      ],
      "metadata": {
        "id": "cVSdurotS-8z"
      },
      "execution_count": null,
      "outputs": []
    },
    {
      "cell_type": "code",
      "source": [
        "plot.colorbars[0].mappable.set_clim(0,20)\n",
        "plot.refresh()\n",
        "plot"
      ],
      "metadata": {
        "id": "1v2v5xVJTAiO"
      },
      "execution_count": null,
      "outputs": []
    },
    {
      "cell_type": "markdown",
      "source": [
        "4. The time of the merger can be read off from the spectrogram and is equal to -64s."
      ],
      "metadata": {
        "id": "gOGCJiitgiox"
      }
    }
  ]
}