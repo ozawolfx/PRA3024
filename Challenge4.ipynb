{
  "nbformat": 4,
  "nbformat_minor": 0,
  "metadata": {
    "colab": {
      "name": "Challenge4.ipynb",
      "provenance": []
    },
    "kernelspec": {
      "name": "python3",
      "display_name": "Python 3"
    },
    "language_info": {
      "name": "python"
    }
  },
  "cells": [
    {
      "cell_type": "markdown",
      "source": [
        "Installing the packages and loading the data from Google Drive"
      ],
      "metadata": {
        "id": "zspZzwgWb0PE"
      }
    },
    {
      "cell_type": "code",
      "execution_count": 1,
      "metadata": {
        "colab": {
          "base_uri": "https://localhost:8080/",
          "height": 446
        },
        "id": "zE0QrK6YZUni",
        "outputId": "6321bf0b-d8f5-465a-a5a9-260dbe65c41f"
      },
      "outputs": [
        {
          "output_type": "stream",
          "name": "stdout",
          "text": [
            "\u001b[31mERROR: pip's dependency resolver does not currently take into account all the packages that are installed. This behaviour is the source of the following dependency conflicts.\n",
            "albumentations 0.1.12 requires imgaug<0.2.7,>=0.2.5, but you have imgaug 0.2.9 which is incompatible.\u001b[0m\n",
            "Collecting matplotlib==3.1.3\n",
            "  Using cached matplotlib-3.1.3-cp37-cp37m-manylinux1_x86_64.whl (13.1 MB)\n",
            "Requirement already satisfied: kiwisolver>=1.0.1 in /usr/local/lib/python3.7/dist-packages (from matplotlib==3.1.3) (1.3.2)\n",
            "Requirement already satisfied: pyparsing!=2.0.4,!=2.1.2,!=2.1.6,>=2.0.1 in /usr/local/lib/python3.7/dist-packages (from matplotlib==3.1.3) (3.0.7)\n",
            "Requirement already satisfied: python-dateutil>=2.1 in /usr/local/lib/python3.7/dist-packages (from matplotlib==3.1.3) (2.8.2)\n",
            "Requirement already satisfied: numpy>=1.11 in /usr/local/lib/python3.7/dist-packages (from matplotlib==3.1.3) (1.19.5)\n",
            "Requirement already satisfied: cycler>=0.10 in /usr/local/lib/python3.7/dist-packages (from matplotlib==3.1.3) (0.11.0)\n",
            "Requirement already satisfied: six>=1.5 in /usr/local/lib/python3.7/dist-packages (from python-dateutil>=2.1->matplotlib==3.1.3) (1.15.0)\n",
            "Installing collected packages: matplotlib\n",
            "  Attempting uninstall: matplotlib\n",
            "    Found existing installation: matplotlib 3.5.1\n",
            "    Uninstalling matplotlib-3.5.1:\n",
            "      Successfully uninstalled matplotlib-3.5.1\n",
            "\u001b[31mERROR: pip's dependency resolver does not currently take into account all the packages that are installed. This behaviour is the source of the following dependency conflicts.\n",
            "gwpy 2.1.3 requires matplotlib>=3.3.0, but you have matplotlib 3.1.3 which is incompatible.\n",
            "albumentations 0.1.12 requires imgaug<0.2.7,>=0.2.5, but you have imgaug 0.2.9 which is incompatible.\u001b[0m\n",
            "Successfully installed matplotlib-3.1.3\n"
          ]
        },
        {
          "output_type": "display_data",
          "data": {
            "application/vnd.colab-display-data+json": {
              "pip_warning": {
                "packages": [
                  "matplotlib",
                  "mpl_toolkits"
                ]
              }
            }
          },
          "metadata": {}
        }
      ],
      "source": [
        "! pip install -q lalsuite\n",
        "! pip install -q gwpy\n",
        "! pip install -q pycbc\n",
        "# -- Click \"restart runtime\" in the runtime menu\n",
        "! pip install matplotlib==3.1.3"
      ]
    },
    {
      "cell_type": "code",
      "source": [
        "from google.colab import drive\n",
        "from gwpy.timeseries import TimeSeries\n",
        "import pycbc\n",
        "from pycbc import frame\n",
        "\n",
        "drive.mount('/content/drive')\n",
        "\n",
        "pycbc_strain = pycbc.types.load_timeseries('/content/drive/MyDrive/GW_noisedata-2.npy')\n"
      ],
      "metadata": {
        "colab": {
          "base_uri": "https://localhost:8080/"
        },
        "id": "nF_ZcXqQb2gh",
        "outputId": "bbdc9da4-1a2d-47b0-edb8-c4a140256bf8"
      },
      "execution_count": 2,
      "outputs": [
        {
          "output_type": "stream",
          "name": "stdout",
          "text": [
            "Mounted at /content/drive\n"
          ]
        }
      ]
    },
    {
      "cell_type": "markdown",
      "source": [
        "Loading the packages needed for Task 4\n"
      ],
      "metadata": {
        "id": "FTGavyoZdEok"
      }
    },
    {
      "cell_type": "code",
      "source": [
        "from pycbc.filter import matched_filter\n",
        "import numpy\n",
        "from pycbc.waveform import get_td_waveform\n",
        "import pylab\n",
        "from pycbc import frame\n",
        "from pycbc.filter import matched_filter\n",
        "import numpy\n",
        "import pylab\n",
        "from pycbc.filter import resample_to_delta_t, highpass\n",
        "from pycbc.psd import interpolate, inverse_spectrum_truncation"
      ],
      "metadata": {
        "id": "LJcOKQR5dDUq"
      },
      "execution_count": 4,
      "outputs": []
    },
    {
      "cell_type": "markdown",
      "source": [
        "1. For this first part we can create an arange of the solar masses (from 5 to 10 increasing by 0.1 at each point) as well as calculating the sample rate and the duration."
      ],
      "metadata": {
        "id": "FWmiO4X9cpBk"
      }
    },
    {
      "cell_type": "code",
      "source": [
        "import numpy as ar\n",
        "\n",
        "m = ar.arange(5,10,0.1)\n",
        "m1 = m2 = m\n",
        "print(m)\n",
        "\n",
        "samplerate = pycbc_strain.sample_rate\n",
        "duration = pycbc_strain.duration\n",
        "print('This is the sample rate:', samplerate, 'and the duration:', duration)"
      ],
      "metadata": {
        "colab": {
          "base_uri": "https://localhost:8080/"
        },
        "id": "U05qkkJAc5Au",
        "outputId": "2baf5ada-75b0-4ad3-ab54-b6c30c7aac11"
      },
      "execution_count": 3,
      "outputs": [
        {
          "output_type": "stream",
          "name": "stdout",
          "text": [
            "[5.  5.1 5.2 5.3 5.4 5.5 5.6 5.7 5.8 5.9 6.  6.1 6.2 6.3 6.4 6.5\n",
            " 6.6 6.7 6.8 6.9 7.  7.1 7.2 7.3 7.4 7.5 7.6 7.7 7.8 7.9 8.  8.1\n",
            " 8.2 8.3 8.4 8.5 8.6 8.7 8.8 8.9 9.  9.1 9.2 9.3 9.4 9.5 9.6 9.7\n",
            " 9.8 9.9]\n",
            "This is the sample rate: 4096.0 and the duration: 256.0\n"
          ]
        }
      ]
    },
    {
      "cell_type": "markdown",
      "source": [
        "Now we make iterations of thoses masses with the arange and a for loop. containing. We also create a template of the cross polarization using the same method as for Task 2/ Task 3."
      ],
      "metadata": {
        "id": "-zvzZ6hddecc"
      }
    },
    {
      "cell_type": "code",
      "source": [
        "listsnr = ar.zeros((len(m), 2), float)\n",
        "\n",
        "for i in range(0, len(m)):\n",
        "  hp = get_td_waveform(approximant=\"SEOBNRv4_opt\",\n",
        "                     mass1=m[i],\n",
        "                     mass2=m[i],\n",
        "                     delta_t=pycbc_strain.delta_t,\n",
        "                     f_lower=15)"
      ],
      "metadata": {
        "id": "bOkUSlfDdWdB"
      },
      "execution_count": 5,
      "outputs": []
    },
    {
      "cell_type": "markdown",
      "source": [
        "We can condition the data and make the PSD"
      ],
      "metadata": {
        "id": "mMFLZ06keM9o"
      }
    },
    {
      "cell_type": "code",
      "source": [
        "pycbc_strain = highpass(pycbc_strain, 15.0)\n",
        "pycbc_strain = resample_to_delta_t(pycbc_strain, 1.0/2048)\n",
        "conditioned = pycbc_strain.crop(3,3)\n",
        "# Resize the vector to match our data\n",
        "hp.resize(len(conditioned))\n",
        "\n",
        "template = hp.cyclic_time_shift(hp.start_time)"
      ],
      "metadata": {
        "colab": {
          "base_uri": "https://localhost:8080/",
          "height": 232
        },
        "id": "eyDgbU_MeWF_",
        "outputId": "1f83bec8-052a-40f7-c5b4-9dcd279c18f6"
      },
      "execution_count": 6,
      "outputs": [
        {
          "output_type": "error",
          "ename": "AttributeError",
          "evalue": "ignored",
          "traceback": [
            "\u001b[0;31m---------------------------------------------------------------------------\u001b[0m",
            "\u001b[0;31mAttributeError\u001b[0m                            Traceback (most recent call last)",
            "\u001b[0;32m<ipython-input-6-8bd8550f2bfb>\u001b[0m in \u001b[0;36m<module>\u001b[0;34m()\u001b[0m\n\u001b[1;32m      3\u001b[0m \u001b[0mconditioned\u001b[0m \u001b[0;34m=\u001b[0m \u001b[0mpycbc_strain\u001b[0m\u001b[0;34m.\u001b[0m\u001b[0mcrop\u001b[0m\u001b[0;34m(\u001b[0m\u001b[0;36m3\u001b[0m\u001b[0;34m,\u001b[0m\u001b[0;36m3\u001b[0m\u001b[0;34m)\u001b[0m\u001b[0;34m\u001b[0m\u001b[0;34m\u001b[0m\u001b[0m\n\u001b[1;32m      4\u001b[0m \u001b[0;31m# Resize the vector to match our data\u001b[0m\u001b[0;34m\u001b[0m\u001b[0;34m\u001b[0m\u001b[0;34m\u001b[0m\u001b[0m\n\u001b[0;32m----> 5\u001b[0;31m \u001b[0mhp\u001b[0m\u001b[0;34m.\u001b[0m\u001b[0mresize\u001b[0m\u001b[0;34m(\u001b[0m\u001b[0mlen\u001b[0m\u001b[0;34m(\u001b[0m\u001b[0mconditioned\u001b[0m\u001b[0;34m)\u001b[0m\u001b[0;34m)\u001b[0m\u001b[0;34m\u001b[0m\u001b[0;34m\u001b[0m\u001b[0m\n\u001b[0m\u001b[1;32m      6\u001b[0m \u001b[0;34m\u001b[0m\u001b[0m\n\u001b[1;32m      7\u001b[0m \u001b[0mtemplate\u001b[0m \u001b[0;34m=\u001b[0m \u001b[0mhp\u001b[0m\u001b[0;34m.\u001b[0m\u001b[0mcyclic_time_shift\u001b[0m\u001b[0;34m(\u001b[0m\u001b[0mhp\u001b[0m\u001b[0;34m.\u001b[0m\u001b[0mstart_time\u001b[0m\u001b[0;34m)\u001b[0m\u001b[0;34m\u001b[0m\u001b[0;34m\u001b[0m\u001b[0m\n",
            "\u001b[0;31mAttributeError\u001b[0m: 'tuple' object has no attribute 'resize'"
          ]
        }
      ]
    },
    {
      "cell_type": "code",
      "source": [
        "from pycbc.psd import interpolate, inverse_spectrum_truncation\n",
        "psd = pycbc_strain.psd(4)\n",
        "# Estimate the power spectral density\n",
        "\n",
        "# We use 4 second samples of our time series since the data length is 128 which is divisible by 4\n",
        "psd = conditioned.psd(4)\n",
        "\n",
        "# Now that we have the psd we need to interpolate it to match our data\n",
        "# and then limit the filter length of 1 / PSD. After this, we can\n",
        "# directly use this PSD to filter the data in a controlled manner\n",
        "psd = interpolate(psd, conditioned.delta_f)\n",
        "\n",
        "# 1/PSD will now act as a filter with an effective length of 4 seconds\n",
        "# Since the data has been highpassed above 15 Hz, and will have low values\n",
        "# below this we need to inform the function to not include frequencies\n",
        "# below this frequency. \n",
        "psd = inverse_spectrum_truncation(psd, int(4 * conditioned.sample_rate),\n",
        "                                  low_frequency_cutoff=15)"
      ],
      "metadata": {
        "id": "Thz5UsdteaG7"
      },
      "execution_count": 7,
      "outputs": []
    },
    {
      "cell_type": "markdown",
      "source": [
        "Again we use a for loop because of the different masses to show the max SNR for each mass. "
      ],
      "metadata": {
        "id": "G5uAqPxgeeai"
      }
    },
    {
      "cell_type": "code",
      "source": [
        "snr = matched_filter(template, conditioned,\n",
        "                     psd=psd, \n",
        "                     low_frequency_cutoff=15\n",
        "                     )\n",
        "\n",
        "snr = snr.crop(4 + 4, 4)\n",
        "\n",
        "# for loop to iterate over masses and find all the maximum SNRs \n",
        "# ???\n",
        "\n",
        "pylab.figure(figsize=[10, 4])\n",
        "pylab.plot(snr.sample_times, abs(snr))\n",
        "pylab.ylabel('Signal-to-noise')\n",
        "pylab.xlabel('Time (s)')\n",
        "pylab.show()\n",
        "\n",
        "peak = abs(snr).numpy().argmax()\n",
        "snrp = snr[peak]\n",
        "time = snr.sample_times[peak]\n",
        "\n",
        "print(\"We found a signal at {}s with SNR {}\".format(time, \n",
        "                                                    abs(snrp)))"
      ],
      "metadata": {
        "colab": {
          "base_uri": "https://localhost:8080/",
          "height": 232
        },
        "id": "mOd28cj7fIyI",
        "outputId": "b75c588f-307b-4ee4-cd1f-ce4569c09241"
      },
      "execution_count": 8,
      "outputs": [
        {
          "output_type": "error",
          "ename": "NameError",
          "evalue": "ignored",
          "traceback": [
            "\u001b[0;31m---------------------------------------------------------------------------\u001b[0m",
            "\u001b[0;31mNameError\u001b[0m                                 Traceback (most recent call last)",
            "\u001b[0;32m<ipython-input-8-63579d8ab936>\u001b[0m in \u001b[0;36m<module>\u001b[0;34m()\u001b[0m\n\u001b[0;32m----> 1\u001b[0;31m snr = matched_filter(template, conditioned,\n\u001b[0m\u001b[1;32m      2\u001b[0m                      \u001b[0mpsd\u001b[0m\u001b[0;34m=\u001b[0m\u001b[0mpsd\u001b[0m\u001b[0;34m,\u001b[0m\u001b[0;34m\u001b[0m\u001b[0;34m\u001b[0m\u001b[0m\n\u001b[1;32m      3\u001b[0m                      \u001b[0mlow_frequency_cutoff\u001b[0m\u001b[0;34m=\u001b[0m\u001b[0;36m15\u001b[0m\u001b[0;34m\u001b[0m\u001b[0;34m\u001b[0m\u001b[0m\n\u001b[1;32m      4\u001b[0m                      )\n\u001b[1;32m      5\u001b[0m \u001b[0;34m\u001b[0m\u001b[0m\n",
            "\u001b[0;31mNameError\u001b[0m: name 'template' is not defined"
          ]
        }
      ]
    },
    {
      "cell_type": "markdown",
      "source": [
        "2. Whitening of the data"
      ],
      "metadata": {
        "id": "sa80l0_SfSYE"
      }
    },
    {
      "cell_type": "code",
      "source": [
        "data_whitened = (conditioned.to_frequencyseries() / psd**0.5).to_timeseries()"
      ],
      "metadata": {
        "id": "EGLpqdCVfa9v"
      },
      "execution_count": 11,
      "outputs": []
    },
    {
      "cell_type": "code",
      "source": [
        "sum = data_whitened.sum()\n",
        "mean = sum/len(data_whitened)\n",
        "print(mean)"
      ],
      "metadata": {
        "colab": {
          "base_uri": "https://localhost:8080/"
        },
        "id": "AGJn7Hlifert",
        "outputId": "a492758f-9e5a-4915-9056-9bc5b6622e9a"
      },
      "execution_count": 10,
      "outputs": [
        {
          "output_type": "stream",
          "name": "stdout",
          "text": [
            "-9.754919858927735e-06\n"
          ]
        }
      ]
    },
    {
      "cell_type": "markdown",
      "source": [
        "So the mean is approximately equal to zero. Let's now plot a histogram of this whitened data to have a look at the distribution of the data (to see if it follows "
      ],
      "metadata": {
        "id": "cMUmWBIFfozz"
      }
    },
    {
      "cell_type": "code",
      "source": [
        "import matplotlib.pyplot as plot\n",
        "import numpy as np\n",
        "from matplotlib import colors\n",
        "from matplotlib.ticker import PercentFormatter\n",
        "\n",
        "n_bins = 100\n",
        "plot = plot.hist(data_whitened, n_bins)\n",
        "plot"
      ],
      "metadata": {
        "colab": {
          "base_uri": "https://localhost:8080/"
        },
        "id": "vH_hOEIVgGe8",
        "outputId": "2613f195-09dd-4dd0-b820-0224e619d96e"
      },
      "execution_count": 12,
      "outputs": [
        {
          "output_type": "execute_result",
          "data": {
            "text/plain": [
              "(array([1.00000e+00, 0.00000e+00, 0.00000e+00, 0.00000e+00,\n",
              "        0.00000e+00, 0.00000e+00, 0.00000e+00, 0.00000e+00,\n",
              "        0.00000e+00, 0.00000e+00, 0.00000e+00, 1.00000e+00,\n",
              "        0.00000e+00, 0.00000e+00, 0.00000e+00, 0.00000e+00,\n",
              "        0.00000e+00, 1.00000e+00, 0.00000e+00, 0.00000e+00,\n",
              "        0.00000e+00, 0.00000e+00, 0.00000e+00, 0.00000e+00,\n",
              "        0.00000e+00, 0.00000e+00, 1.00000e+00, 0.00000e+00,\n",
              "        1.00000e+00, 0.00000e+00, 1.00000e+00, 0.00000e+00,\n",
              "        0.00000e+00, 0.00000e+00, 0.00000e+00, 0.00000e+00,\n",
              "        0.00000e+00, 1.00000e+00, 1.00000e+00, 0.00000e+00,\n",
              "        1.00000e+00, 0.00000e+00, 0.00000e+00, 1.10000e+01,\n",
              "        1.53000e+02, 1.15600e+03, 5.95200e+03, 2.12520e+04,\n",
              "        5.52040e+04, 9.83650e+04, 1.21451e+05, 1.06381e+05,\n",
              "        6.47290e+04, 2.72930e+04, 8.07100e+03, 1.68400e+03,\n",
              "        2.49000e+02, 3.00000e+01, 2.00000e+00, 0.00000e+00,\n",
              "        1.00000e+00, 0.00000e+00, 0.00000e+00, 0.00000e+00,\n",
              "        0.00000e+00, 1.00000e+00, 0.00000e+00, 1.00000e+00,\n",
              "        0.00000e+00, 0.00000e+00, 0.00000e+00, 0.00000e+00,\n",
              "        0.00000e+00, 0.00000e+00, 0.00000e+00, 0.00000e+00,\n",
              "        0.00000e+00, 0.00000e+00, 0.00000e+00, 0.00000e+00,\n",
              "        2.00000e+00, 0.00000e+00, 0.00000e+00, 0.00000e+00,\n",
              "        0.00000e+00, 0.00000e+00, 0.00000e+00, 0.00000e+00,\n",
              "        0.00000e+00, 0.00000e+00, 0.00000e+00, 0.00000e+00,\n",
              "        0.00000e+00, 0.00000e+00, 0.00000e+00, 0.00000e+00,\n",
              "        1.00000e+00, 1.00000e+00, 0.00000e+00, 1.00000e+00]),\n",
              " array([-980.06172767, -960.69766992, -941.33361217,\n",
              "        -921.96955442, -902.60549666, -883.24143891,\n",
              "        -863.87738116, -844.51332341, -825.14926566,\n",
              "        -805.78520791, -786.42115016, -767.05709241,\n",
              "        -747.69303466, -728.32897691, -708.96491916,\n",
              "        -689.60086141, -670.23680366, -650.87274591,\n",
              "        -631.50868816, -612.14463041, -592.78057266,\n",
              "        -573.41651491, -554.05245716, -534.68839941,\n",
              "        -515.32434166, -495.96028391, -476.59622616,\n",
              "        -457.23216841, -437.86811066, -418.50405291,\n",
              "        -399.13999516, -379.77593741, -360.41187966,\n",
              "        -341.04782191, -321.68376416, -302.31970641,\n",
              "        -282.95564866, -263.59159091, -244.22753316,\n",
              "        -224.86347541, -205.49941766, -186.13535991,\n",
              "        -166.77130216, -147.4072444 , -128.04318665,\n",
              "        -108.6791289 ,  -89.31507115,  -69.9510134 ,\n",
              "         -50.58695565,  -31.2228979 ,  -11.85884015,\n",
              "           7.5052176 ,   26.86927535,   46.2333331 ,\n",
              "          65.59739085,   84.9614486 ,  104.32550635,\n",
              "         123.6895641 ,  143.05362185,  162.4176796 ,\n",
              "         181.78173735,  201.1457951 ,  220.50985285,\n",
              "         239.8739106 ,  259.23796835,  278.6020261 ,\n",
              "         297.96608385,  317.3301416 ,  336.69419935,\n",
              "         356.0582571 ,  375.42231485,  394.7863726 ,\n",
              "         414.15043035,  433.5144881 ,  452.87854585,\n",
              "         472.2426036 ,  491.60666135,  510.9707191 ,\n",
              "         530.33477685,  549.6988346 ,  569.06289235,\n",
              "         588.4269501 ,  607.79100785,  627.15506561,\n",
              "         646.51912336,  665.88318111,  685.24723886,\n",
              "         704.61129661,  723.97535436,  743.33941211,\n",
              "         762.70346986,  782.06752761,  801.43158536,\n",
              "         820.79564311,  840.15970086,  859.52375861,\n",
              "         878.88781636,  898.25187411,  917.61593186,\n",
              "         936.97998961,  956.34404736]),\n",
              " <a list of 100 Patch objects>)"
            ]
          },
          "metadata": {},
          "execution_count": 12
        }
      ]
    },
    {
      "cell_type": "markdown",
      "source": [
        "We couldn't manage to plot it despite the plot.hist but we've calculated that the mean is almost zero."
      ],
      "metadata": {
        "id": "yIN-X32tgLL-"
      }
    }
  ]
}